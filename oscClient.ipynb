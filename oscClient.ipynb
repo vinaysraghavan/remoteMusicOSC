{
 "cells": [
  {
   "cell_type": "code",
   "execution_count": 1,
   "metadata": {},
   "outputs": [],
   "source": [
    "from pythonosc.udp_client import SimpleUDPClient"
   ]
  },
  {
   "cell_type": "code",
   "execution_count": 25,
   "metadata": {},
   "outputs": [],
   "source": [
    "ip = \"127.0.0.1\"\n",
    "port = 1337\n",
    "\n",
    "client = SimpleUDPClient(ip, port)  # Create client\n",
    "\n",
    "client.send_message(\"something/a\", [1,2])   # Send float message\n",
    "client.send_message(\"/\", [110, .1]) \n"
   ]
  },
  {
   "cell_type": "code",
   "execution_count": 32,
   "metadata": {},
   "outputs": [],
   "source": [
    "client.send_message(\"/\", [220, 2]) "
   ]
  },
  {
   "cell_type": "code",
   "execution_count": 36,
   "metadata": {},
   "outputs": [],
   "source": [
    "# Define the fundamental\n",
    "f1 = 440 #261.626\n",
    "# Define the ratio for the \"octave\" and # tones in the scale\n",
    "octave = 2 \n",
    "tones = 13 # Normal would be 13\n",
    "\n",
    "# Create the ratios using equal temperment\n",
    "ratios = [octave**(ii/(tones-1)) for ii in range(tones)]\n",
    "\n",
    "ratios = []\n",
    "for ii in range(tones):\n",
    "    currRatio = octave**(ii/(tones-1))\n",
    "    ratios.append(currRatio)\n",
    "\n",
    "ratios = np.asarray(ratios)\n",
    "\n",
    "# Define indices for major and minor scale (when using 13 tones)\n",
    "major = [0,2,4,5,7,9,11,12]\n",
    "minor = [0,2,3,5,7,8,10,12]\n",
    "\n",
    "ratios = ratios[major]\n",
    "\n",
    "# Loop over ratios, create sine wave at each frequency\n",
    "scale = []\n",
    "for ii in range(len(ratios)):\n",
    "    ratio = ratios[ii]\n",
    "    client.send_message('/',[f1*ratio, .1])"
   ]
  },
  {
   "cell_type": "code",
   "execution_count": null,
   "metadata": {},
   "outputs": [],
   "source": []
  }
 ],
 "metadata": {
  "kernelspec": {
   "display_name": "Python 3",
   "language": "python",
   "name": "python3"
  },
  "language_info": {
   "codemirror_mode": {
    "name": "ipython",
    "version": 3
   },
   "file_extension": ".py",
   "mimetype": "text/x-python",
   "name": "python",
   "nbconvert_exporter": "python",
   "pygments_lexer": "ipython3",
   "version": "3.7.6"
  }
 },
 "nbformat": 4,
 "nbformat_minor": 4
}
