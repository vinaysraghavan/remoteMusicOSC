{
 "cells": [
  {
   "cell_type": "code",
   "execution_count": 1,
   "metadata": {},
   "outputs": [
    {
     "name": "stdout",
     "output_type": "stream",
     "text": [
      "pygame 1.9.4\n",
      "Hello from the pygame community. https://www.pygame.org/contribute.html\n"
     ]
    }
   ],
   "source": [
    "from pythonosc.udp_client import SimpleUDPClient\n",
    "\n",
    "import numpy as np\n",
    "import pygame as pg\n",
    "import time"
   ]
  },
  {
   "cell_type": "code",
   "execution_count": 2,
   "metadata": {},
   "outputs": [],
   "source": [
    "ip = '127.0.0.1'\n",
    "# ip = \"160.39.43.17\"\n",
    "# ip = '192.168.86.42'\n",
    "port = 1337\n",
    "\n",
    "client = SimpleUDPClient(ip, port) "
   ]
  },
  {
   "cell_type": "code",
   "execution_count": 3,
   "metadata": {},
   "outputs": [],
   "source": [
    "# # Define the fundamental\n",
    "# f1 = 440 #261.626\n",
    "# # Define the ratio for the \"octave\" and # tones in the scale\n",
    "# octave = 2 \n",
    "# tones = 13 # Normal would be 13\n",
    "\n",
    "# # Create the ratios using equal temperment\n",
    "# ratios = [octave**(ii/(tones-1)) for ii in range(tones)]\n",
    "\n",
    "# ratios = []\n",
    "# for ii in range(tones):\n",
    "#     currRatio = octave**(ii/(tones-1))\n",
    "#     ratios.append(currRatio)\n",
    "\n",
    "# ratios = np.asarray(ratios)\n",
    "\n",
    "# # Define indices for major and minor scale (when using 13 tones)\n",
    "# major = [0,2,4,5,7,9,11,12]\n",
    "# minor = [0,2,3,5,7,8,10,12]\n",
    "\n",
    "# ratios = ratios[major]\n",
    "\n",
    "# # Loop over ratios, create sine wave at each frequency\n",
    "# for ii in range(len(ratios)):\n",
    "#     ratio = ratios[ii]\n",
    "#     client.send_message('/',[f1*ratio, .1])"
   ]
  },
  {
   "cell_type": "code",
   "execution_count": 4,
   "metadata": {},
   "outputs": [],
   "source": [
    "def createKeyDict():\n",
    "    \n",
    "    pg.init()\n",
    "    \n",
    "    screen = pg.display.set_mode((200, 200))\n",
    "    keyDict = {}\n",
    "\n",
    "    while True:\n",
    "        # Get the current keypress event\n",
    "        event = pg.event.wait()\n",
    "        # If key is pressed, send note on\n",
    "        if event.type is pg.KEYDOWN:\n",
    "            print(event.key, event.unicode)\n",
    "            keyDict[event.key] = event.unicode\n",
    "            if event.unicode == '`':\n",
    "                break\n",
    "    pg.quit()\n",
    "    \n",
    "    return keyDict"
   ]
  },
  {
   "cell_type": "code",
   "execution_count": 5,
   "metadata": {},
   "outputs": [],
   "source": [
    "keyDict = {49: '1', 50: '2', 51: '3', 52: '4', 53: '5', 54: '6',\n",
    "           55: '7', 56: '8', 57: '9', 48: '0', 45: '-', 61: '=',\n",
    "           92: '\\\\', 93: ']', 91: '[', 112: 'p', 111: 'o', 105: 'i',\n",
    "           117: 'u', 121: 'y', 116: 't', 114: 'r', 101: 'e', 119: 'w',\n",
    "           113: 'q', 97: 'a', 115: 's', 100: 'd', 102: 'f', 103: 'g',\n",
    "           104: 'h', 106: 'j', 107: 'k', 108: 'l', 59: ';', 39: \"'\",\n",
    "           47: '/', 46: '.', 44: ',', 109: 'm', 110: 'n', 98: 'b',\n",
    "           118: 'v', 99: 'c', 120: 'x', 122: 'z', 96: '`'}\n",
    "\n",
    "midiDict = {'a':36,'w':37,'s':38,'e':39,'d':40,\n",
    "            'f':41,'t':42,'g':43,'y':44,'h':45,\n",
    "            'u':46,'j':47,'k':48,'o':49,'l':50,\n",
    "            'p':51,';':52,\"'\":53}"
   ]
  },
  {
   "cell_type": "code",
   "execution_count": 6,
   "metadata": {},
   "outputs": [],
   "source": [
    "def sendNote(on, key):\n",
    "    # Map pygame key to midi note\n",
    "    keyLetter = keyDict[key]\n",
    "    midiNum = midiDict[keyLetter]\n",
    "    \n",
    "    client.send_message('/', [midiNum, on])"
   ]
  },
  {
   "cell_type": "code",
   "execution_count": null,
   "metadata": {},
   "outputs": [
    {
     "name": "stdout",
     "output_type": "stream",
     "text": [
      "a\n",
      "a\n",
      "s\n",
      "a\n",
      "s\n",
      "d\n",
      "f\n",
      "h\n",
      "j\n",
      "k\n",
      "g\n",
      "f\n",
      "s\n",
      "a\n",
      "h\n",
      "j\n",
      "a\n",
      "k\n",
      "d\n",
      "f\n",
      "g\n",
      "j\n",
      "k\n",
      "l\n",
      "f\n",
      "d\n",
      "s\n",
      "l\n",
      "a\n",
      "l\n",
      "j\n",
      "d\n",
      "f\n",
      "j\n",
      "f\n",
      "g\n",
      "h\n",
      "d\n",
      "k\n",
      "s\n",
      "l\n"
     ]
    }
   ],
   "source": [
    "pg.init()\n",
    "screen = pg.display.set_mode((200, 200))\n",
    "\n",
    "while True:\n",
    "    # Get the current keypress event\n",
    "    event = pg.event.wait()\n",
    "    # If key is pressed, send note on\n",
    "    if event.type is pg.KEYDOWN:\n",
    "        print(event.unicode, )\n",
    "        sendNote(1, int(event.key))\n",
    "    # If key is released, send note off event\n",
    "    if event.type is pg.KEYUP:\n",
    "        sendNote(0, int(event.key))\n",
    "pg.quit()\n"
   ]
  },
  {
   "cell_type": "code",
   "execution_count": null,
   "metadata": {},
   "outputs": [
    {
     "name": "stdout",
     "output_type": "stream",
     "text": [
      "a\n",
      "s\n",
      "d\n",
      "f\n",
      "g\n",
      "h\n",
      "j\n",
      "k\n",
      "l\n",
      ";\n",
      "'\n",
      ";\n",
      "l\n",
      "k\n",
      "j\n",
      "h\n",
      "g\n",
      "f\n",
      "d\n",
      "s\n",
      "a\n",
      "a\n",
      "g\n",
      "y\n",
      "g\n",
      "y\n",
      "h\n",
      "g\n",
      "h\n",
      "j\n",
      "j\n",
      "j\n",
      "j\n",
      "h\n",
      "h\n",
      "h\n",
      "g\n",
      "j\n",
      "h\n",
      "g\n",
      "f\n",
      "t\n",
      "g\n",
      "h\n",
      "y\n",
      "t\n",
      "g\n",
      "h\n",
      "j\n",
      "j\n"
     ]
    }
   ],
   "source": [
    "waitUp=False\n",
    "pg.init()\n",
    "screen = pg.display.set_mode((200, 200))\n",
    "\n",
    "while True:\n",
    "    # Get the current keypress event\n",
    "    event = pg.event.wait()\n",
    "    # If key is pressed, send note on\n",
    "    if event.type is pg.KEYDOWN:\n",
    "        print(event.unicode, )\n",
    "        sendNote(1, int(event.key))\n",
    "        waitUp = True\n",
    "    # If key is released, send note off event\n",
    "    if event.type is pg.KEYUP and waitUp:\n",
    "        sendNote(0, int(event.key))\n",
    "        waitUp=False\n",
    "pg.quit()\n"
   ]
  },
  {
   "cell_type": "code",
   "execution_count": null,
   "metadata": {},
   "outputs": [],
   "source": []
  }
 ],
 "metadata": {
  "kernelspec": {
   "display_name": "Python 3",
   "language": "python",
   "name": "python3"
  },
  "language_info": {
   "codemirror_mode": {
    "name": "ipython",
    "version": 3
   },
   "file_extension": ".py",
   "mimetype": "text/x-python",
   "name": "python",
   "nbconvert_exporter": "python",
   "pygments_lexer": "ipython3",
   "version": "3.7.6"
  }
 },
 "nbformat": 4,
 "nbformat_minor": 4
}
