{
 "cells": [
  {
   "cell_type": "code",
   "execution_count": 1,
   "metadata": {},
   "outputs": [
    {
     "name": "stdout",
     "output_type": "stream",
     "text": [
      "pygame 1.9.4\n",
      "Hello from the pygame community. https://www.pygame.org/contribute.html\n"
     ]
    }
   ],
   "source": [
    "from pythonosc.udp_client import SimpleUDPClient\n",
    "\n",
    "import numpy as np\n",
    "import pygame as pg\n",
    "import time"
   ]
  },
  {
   "cell_type": "code",
   "execution_count": 2,
   "metadata": {},
   "outputs": [],
   "source": [
    "# ip = \"160.39.43.17\"\n",
    "ip = '192.168.86.43'\n",
    "port = 1337\n",
    "\n",
    "client = SimpleUDPClient(ip, port)  # Create client\n",
    "\n",
    "client.send_message(\"/\", [220, .1]) "
   ]
  },
  {
   "cell_type": "code",
   "execution_count": 3,
   "metadata": {},
   "outputs": [],
   "source": [
    "# Define the fundamental\n",
    "f1 = 440 #261.626\n",
    "# Define the ratio for the \"octave\" and # tones in the scale\n",
    "octave = 2 \n",
    "tones = 13 # Normal would be 13\n",
    "\n",
    "# Create the ratios using equal temperment\n",
    "ratios = [octave**(ii/(tones-1)) for ii in range(tones)]\n",
    "\n",
    "ratios = []\n",
    "for ii in range(tones):\n",
    "    currRatio = octave**(ii/(tones-1))\n",
    "    ratios.append(currRatio)\n",
    "\n",
    "ratios = np.asarray(ratios)\n",
    "\n",
    "# Define indices for major and minor scale (when using 13 tones)\n",
    "major = [0,2,4,5,7,9,11,12]\n",
    "minor = [0,2,3,5,7,8,10,12]\n",
    "\n",
    "ratios = ratios[major]\n",
    "\n",
    "# Loop over ratios, create sine wave at each frequency\n",
    "for ii in range(len(ratios)):\n",
    "    ratio = ratios[ii]\n",
    "    client.send_message('/',[f1*ratio, .1])"
   ]
  },
  {
   "cell_type": "code",
   "execution_count": 4,
   "metadata": {},
   "outputs": [],
   "source": [
    "def sendNote(key, dur=.05, charList=[97,115,100,102,103,104,106,107,108]):\n",
    "    f1 = 440\n",
    "    # Create the ratios using equal temperment\n",
    "    ratios = [2**(ii/(13-1)) for ii in range(13)]\n",
    "    ratios = np.asarray(ratios)\n",
    "    if key in charList:\n",
    "        myInd = charList.index(key)\n",
    "    else:\n",
    "        return\n",
    "    pitch = f1*ratios[myInd]\n",
    "\n",
    "    client.send_message('/', [pitch, dur])"
   ]
  },
  {
   "cell_type": "code",
   "execution_count": null,
   "metadata": {},
   "outputs": [],
   "source": [
    "waitUp=False\n",
    "pg.init()\n",
    "screen = pg.display.set_mode((200, 200))\n",
    "\n",
    "while True:\n",
    "    event = pg.event.wait()\n",
    "    if event.type is pg.KEYDOWN:\n",
    "        start = time.time()\n",
    "        waitUp = True\n",
    "    if event.type is pg.KEYUP and waitUp:\n",
    "        sendNote(int(event.key), float(time.time()-start))\n",
    "        waitUp=False\n",
    "pg.quit()\n"
   ]
  },
  {
   "cell_type": "code",
   "execution_count": null,
   "metadata": {},
   "outputs": [],
   "source": []
  }
 ],
 "metadata": {
  "kernelspec": {
   "display_name": "Python 3",
   "language": "python",
   "name": "python3"
  },
  "language_info": {
   "codemirror_mode": {
    "name": "ipython",
    "version": 3
   },
   "file_extension": ".py",
   "mimetype": "text/x-python",
   "name": "python",
   "nbconvert_exporter": "python",
   "pygments_lexer": "ipython3",
   "version": "3.7.6"
  }
 },
 "nbformat": 4,
 "nbformat_minor": 4
}
