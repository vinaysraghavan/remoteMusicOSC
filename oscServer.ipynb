{
 "cells": [
  {
   "cell_type": "code",
   "execution_count": 1,
   "metadata": {},
   "outputs": [],
   "source": [
    "import numpy as np\n",
    "import simpleaudio as sa\n",
    "\n",
    "from pythonosc.dispatcher import Dispatcher\n",
    "from pythonosc.osc_server import BlockingOSCUDPServer"
   ]
  },
  {
   "cell_type": "markdown",
   "metadata": {},
   "source": [
    "# Define tone playing function"
   ]
  },
  {
   "cell_type": "code",
   "execution_count": 2,
   "metadata": {},
   "outputs": [],
   "source": [
    "def playTone(pitch=440, dur=0.2):\n",
    "    # Sampling frequency 44.1kHz\n",
    "    fs = 44100\n",
    "    # Default note duration 0.2 sec\n",
    "    tt = np.linspace(0, dur, int(dur*fs), False)\n",
    "\n",
    "    # Generate a \"pitch\" Hz sine wave\n",
    "    note = np.sin(pitch * tt * 2 * np.pi)\n",
    "\n",
    "    # Ensure that highest value is in 16-bit range\n",
    "    audio = note * (2**15 - 1) / np.max(np.abs(note))\n",
    "    # Convert to 16-bit data\n",
    "    audio = audio.astype(np.int16)\n",
    "\n",
    "    # Start playback\n",
    "    play_obj = sa.play_buffer(audio, 1, 2, fs)\n",
    "\n",
    "    # Wait for playback to finish before exiting\n",
    "    play_obj.wait_done()"
   ]
  },
  {
   "cell_type": "code",
   "execution_count": 3,
   "metadata": {},
   "outputs": [
    {
     "name": "stdout",
     "output_type": "stream",
     "text": [
      "My public IP address is: 160.39.43.17\n"
     ]
    }
   ],
   "source": [
    "from requests import get\n",
    "\n",
    "ip = get('https://api.ipify.org').text\n",
    "print('My public IP address is:', ip)\n",
    "\n",
    "import socket    \n",
    "hostname = socket.gethostname()    \n",
    "IPAddr = socket.gethostbyname(hostname)    \n",
    "print(\"Your Computer Name is:\" + hostname)    \n",
    "print(\"Your Computer IP Address is:\" + IPAddr)\n",
    "\n",
    "ipLH = 127.0.0.1"
   ]
  },
  {
   "cell_type": "code",
   "execution_count": null,
   "metadata": {},
   "outputs": [],
   "source": [
    "def print_handler(address, *args):\n",
    "    print(f\"{address}: {args}\")\n",
    "\n",
    "# Play sine wave tone of whatever pitch and duration sent\n",
    "def default_handler(address, *args):\n",
    "    if len(args)>1:\n",
    "        playTone(args[0], args[1])\n",
    "    else:\n",
    "        playTone(args)\n",
    "\n",
    "\n",
    "dispatcher = Dispatcher()\n",
    "dispatcher.map(\"/something/*\", print_handler)\n",
    "dispatcher.set_default_handler(default_handler)\n",
    "\n",
    "port = 1337\n",
    "\n",
    "server = BlockingOSCUDPServer((IPAddr, port), dispatcher)\n",
    "server.serve_forever()  # Blocks forever"
   ]
  },
  {
   "cell_type": "code",
   "execution_count": null,
   "metadata": {},
   "outputs": [],
   "source": []
  }
 ],
 "metadata": {
  "kernelspec": {
   "display_name": "Python 3",
   "language": "python",
   "name": "python3"
  },
  "language_info": {
   "codemirror_mode": {
    "name": "ipython",
    "version": 3
   },
   "file_extension": ".py",
   "mimetype": "text/x-python",
   "name": "python",
   "nbconvert_exporter": "python",
   "pygments_lexer": "ipython3",
   "version": "3.8.2"
  }
 },
 "nbformat": 4,
 "nbformat_minor": 4
}
